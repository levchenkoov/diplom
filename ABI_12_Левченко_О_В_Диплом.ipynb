{
  "nbformat": 4,
  "nbformat_minor": 0,
  "metadata": {
    "colab": {
      "name": "ABI-12. Левченко О.В. Диплом",
      "provenance": [],
      "collapsed_sections": [],
      "authorship_tag": "ABX9TyOvYtP1WKXTRmBTgKdiPOqM",
      "include_colab_link": true
    },
    "kernelspec": {
      "name": "python3",
      "display_name": "Python 3"
    }
  },
  "cells": [
    {
      "cell_type": "markdown",
      "metadata": {
        "id": "view-in-github",
        "colab_type": "text"
      },
      "source": [
        "<a href=\"https://colab.research.google.com/github/levchenkoov/diplom/blob/main/ABI_12_%D0%9B%D0%B5%D0%B2%D1%87%D0%B5%D0%BD%D0%BA%D0%BE_%D0%9E_%D0%92_%D0%94%D0%B8%D0%BF%D0%BB%D0%BE%D0%BC.ipynb\" target=\"_parent\"><img src=\"https://colab.research.google.com/assets/colab-badge.svg\" alt=\"Open In Colab\"/></a>"
      ]
    },
    {
      "cell_type": "markdown",
      "metadata": {
        "id": "6DopEebUUMvK"
      },
      "source": [
        "1. Подготовка данных\r\n"
      ]
    },
    {
      "cell_type": "markdown",
      "metadata": {
        "id": "HSqQPMpd7hmP"
      },
      "source": [
        "Загружаем данные"
      ]
    },
    {
      "cell_type": "code",
      "metadata": {
        "id": "IwqE1_wCk_Ma"
      },
      "source": [
        "import pandas as pd"
      ],
      "execution_count": null,
      "outputs": []
    },
    {
      "cell_type": "code",
      "metadata": {
        "id": "IhK3s7YXU1LP"
      },
      "source": [
        "import numpy as np"
      ],
      "execution_count": null,
      "outputs": []
    },
    {
      "cell_type": "code",
      "metadata": {
        "id": "jxyaM1uaGHtZ",
        "colab": {
          "base_uri": "https://localhost:8080/"
        },
        "outputId": "9c2c2cb1-f4df-41e0-b8cc-b2e020dd584c"
      },
      "source": [
        "df1= pd.read_csv(\"combined.csv\", delimiter=';', encoding='windows-1251', decimal=',')"
      ],
      "execution_count": null,
      "outputs": [
        {
          "output_type": "stream",
          "text": [
            "/usr/local/lib/python3.6/dist-packages/IPython/core/interactiveshell.py:2718: DtypeWarning: Columns (13,15,16,19,20,22,24,25) have mixed types.Specify dtype option on import or set low_memory=False.\n",
            "  interactivity=interactivity, compiler=compiler, result=result)\n"
          ],
          "name": "stderr"
        }
      ]
    },
    {
      "cell_type": "code",
      "metadata": {
        "colab": {
          "base_uri": "https://localhost:8080/",
          "height": 428
        },
        "id": "Z10XRPALH4gh",
        "outputId": "97cfde1c-7931-44c3-b969-b18292f00aca"
      },
      "source": [
        "df1.head()"
      ],
      "execution_count": null,
      "outputs": [
        {
          "output_type": "execute_result",
          "data": {
            "text/html": [
              "<div>\n",
              "<style scoped>\n",
              "    .dataframe tbody tr th:only-of-type {\n",
              "        vertical-align: middle;\n",
              "    }\n",
              "\n",
              "    .dataframe tbody tr th {\n",
              "        vertical-align: top;\n",
              "    }\n",
              "\n",
              "    .dataframe thead th {\n",
              "        text-align: right;\n",
              "    }\n",
              "</style>\n",
              "<table border=\"1\" class=\"dataframe\">\n",
              "  <thead>\n",
              "    <tr style=\"text-align: right;\">\n",
              "      <th></th>\n",
              "      <th>№ заявки</th>\n",
              "      <th>Статус заявки</th>\n",
              "      <th>Тип</th>\n",
              "      <th>Дата продажи</th>\n",
              "      <th>Дата создания заявки</th>\n",
              "      <th>Плательщик</th>\n",
              "      <th>Теплоход</th>\n",
              "      <th>Даты рейса</th>\n",
              "      <th>Услуга</th>\n",
              "      <th>Турист</th>\n",
              "      <th>Дата рождения</th>\n",
              "      <th>Гражданство</th>\n",
              "      <th>Города отправления - прибытия</th>\n",
              "      <th>Количество дней круиза</th>\n",
              "      <th>Каюта</th>\n",
              "      <th>Стоимость у оператора</th>\n",
              "      <th>Скидка оператора %</th>\n",
              "      <th>Скидка оператора, руб</th>\n",
              "      <th>Основание</th>\n",
              "      <th>Всего с учетом скидки</th>\n",
              "      <th>Комиссия, %</th>\n",
              "      <th>Комиссия, руб</th>\n",
              "      <th>Скидка, %</th>\n",
              "      <th>Скидка, руб</th>\n",
              "      <th>Наценка</th>\n",
              "      <th>Получено с туриста</th>\n",
              "      <th>Прибыль</th>\n",
              "      <th>Оплачено оператору</th>\n",
              "      <th>Пересадка</th>\n",
              "    </tr>\n",
              "  </thead>\n",
              "  <tbody>\n",
              "    <tr>\n",
              "      <th>0</th>\n",
              "      <td>522858</td>\n",
              "      <td>Оплачено.</td>\n",
              "      <td>Оплата</td>\n",
              "      <td>21.01.2019</td>\n",
              "      <td>18.01.2019</td>\n",
              "      <td>Астарта Групп</td>\n",
              "      <td>Costa Mediterranea</td>\n",
              "      <td>02.02.2019 - 09.02.2019</td>\n",
              "      <td>Круиз</td>\n",
              "      <td>Filippova Valentina .</td>\n",
              "      <td>11.11.1961</td>\n",
              "      <td>NaN</td>\n",
              "      <td>United Arab Emirates, Oman -</td>\n",
              "      <td>7</td>\n",
              "      <td>Reservation: 24143715</td>\n",
              "      <td>53812,87</td>\n",
              "      <td>0,00</td>\n",
              "      <td>0.0</td>\n",
              "      <td>NaN</td>\n",
              "      <td>53812,87</td>\n",
              "      <td>15,00</td>\n",
              "      <td>8071.93</td>\n",
              "      <td>17,00</td>\n",
              "      <td>9148.19</td>\n",
              "      <td>0,00</td>\n",
              "      <td>44664,68</td>\n",
              "      <td>-1076.26</td>\n",
              "      <td>45740.94</td>\n",
              "      <td>NaN</td>\n",
              "    </tr>\n",
              "    <tr>\n",
              "      <th>1</th>\n",
              "      <td>522858</td>\n",
              "      <td>Оплачено.</td>\n",
              "      <td>Оплата</td>\n",
              "      <td>21.01.2019</td>\n",
              "      <td>18.01.2019</td>\n",
              "      <td>Астарта Групп</td>\n",
              "      <td>Costa Mediterranea</td>\n",
              "      <td>02.02.2019 - 09.02.2019</td>\n",
              "      <td>Круиз</td>\n",
              "      <td>Filippov Vladimir .</td>\n",
              "      <td>17.09.1961</td>\n",
              "      <td>NaN</td>\n",
              "      <td>United Arab Emirates, Oman -</td>\n",
              "      <td>7</td>\n",
              "      <td>Reservation: 24143715</td>\n",
              "      <td>0,00</td>\n",
              "      <td>0,00</td>\n",
              "      <td>0.0</td>\n",
              "      <td>NaN</td>\n",
              "      <td>0,00</td>\n",
              "      <td>15,00</td>\n",
              "      <td>0.00</td>\n",
              "      <td>0,00</td>\n",
              "      <td>0.00</td>\n",
              "      <td>0,00</td>\n",
              "      <td>0,00</td>\n",
              "      <td>0.00</td>\n",
              "      <td>0.00</td>\n",
              "      <td>NaN</td>\n",
              "    </tr>\n",
              "    <tr>\n",
              "      <th>2</th>\n",
              "      <td>522858</td>\n",
              "      <td>Оплачено.</td>\n",
              "      <td>Оплата</td>\n",
              "      <td>21.01.2019</td>\n",
              "      <td>18.01.2019</td>\n",
              "      <td>Астарта Групп</td>\n",
              "      <td>Costa Mediterranea</td>\n",
              "      <td>02.02.2019 - 09.02.2019</td>\n",
              "      <td>Круиз</td>\n",
              "      <td>Filippov Iurii .</td>\n",
              "      <td>18.02.2011</td>\n",
              "      <td>NaN</td>\n",
              "      <td>United Arab Emirates, Oman -</td>\n",
              "      <td>7</td>\n",
              "      <td>Reservation: 24143715</td>\n",
              "      <td>0,00</td>\n",
              "      <td>0,00</td>\n",
              "      <td>0.0</td>\n",
              "      <td>NaN</td>\n",
              "      <td>0,00</td>\n",
              "      <td>15,00</td>\n",
              "      <td>0.00</td>\n",
              "      <td>0,00</td>\n",
              "      <td>0.00</td>\n",
              "      <td>0,00</td>\n",
              "      <td>0,00</td>\n",
              "      <td>0.00</td>\n",
              "      <td>0.00</td>\n",
              "      <td>NaN</td>\n",
              "    </tr>\n",
              "    <tr>\n",
              "      <th>3</th>\n",
              "      <td>522858</td>\n",
              "      <td>Оплачено.</td>\n",
              "      <td>Оплата</td>\n",
              "      <td>21.01.2019</td>\n",
              "      <td>18.01.2019</td>\n",
              "      <td>Астарта Групп</td>\n",
              "      <td>Costa Mediterranea</td>\n",
              "      <td>02.02.2019 - 09.02.2019</td>\n",
              "      <td>Сбор</td>\n",
              "      <td>—</td>\n",
              "      <td>—</td>\n",
              "      <td>—</td>\n",
              "      <td>United Arab Emirates, Oman -</td>\n",
              "      <td>7</td>\n",
              "      <td>—</td>\n",
              "      <td>34693,11</td>\n",
              "      <td>0,00</td>\n",
              "      <td>0.0</td>\n",
              "      <td>NaN</td>\n",
              "      <td>34693,11</td>\n",
              "      <td>0,00</td>\n",
              "      <td>0.00</td>\n",
              "      <td>0,00</td>\n",
              "      <td>0.00</td>\n",
              "      <td>0,00</td>\n",
              "      <td>34693,11</td>\n",
              "      <td>0.00</td>\n",
              "      <td>34693.11</td>\n",
              "      <td>NaN</td>\n",
              "    </tr>\n",
              "    <tr>\n",
              "      <th>4</th>\n",
              "      <td>1 / 0</td>\n",
              "      <td>NaN</td>\n",
              "      <td>NaN</td>\n",
              "      <td>NaN</td>\n",
              "      <td>NaN</td>\n",
              "      <td>NaN</td>\n",
              "      <td>Costa Mediterranea</td>\n",
              "      <td>02.02.2019 - 09.02.2019</td>\n",
              "      <td>NaN</td>\n",
              "      <td>1</td>\n",
              "      <td>NaN</td>\n",
              "      <td>NaN</td>\n",
              "      <td>NaN</td>\n",
              "      <td>NaN</td>\n",
              "      <td>NaN</td>\n",
              "      <td>88505,98</td>\n",
              "      <td>NaN</td>\n",
              "      <td>0.0</td>\n",
              "      <td>NaN</td>\n",
              "      <td>88505,98</td>\n",
              "      <td>NaN</td>\n",
              "      <td>8071.93</td>\n",
              "      <td>NaN</td>\n",
              "      <td>9148.19</td>\n",
              "      <td>0,00</td>\n",
              "      <td>79357,79</td>\n",
              "      <td>-1076.26</td>\n",
              "      <td>80434.05</td>\n",
              "      <td>NaN</td>\n",
              "    </tr>\n",
              "  </tbody>\n",
              "</table>\n",
              "</div>"
            ],
            "text/plain": [
              "  № заявки Статус заявки     Тип  ...  Прибыль Оплачено оператору Пересадка\n",
              "0   522858    Оплачено.   Оплата  ... -1076.26           45740.94       NaN\n",
              "1   522858    Оплачено.   Оплата  ...     0.00               0.00       NaN\n",
              "2   522858    Оплачено.   Оплата  ...     0.00               0.00       NaN\n",
              "3   522858    Оплачено.   Оплата  ...     0.00           34693.11       NaN\n",
              "4    1 / 0           NaN     NaN  ... -1076.26           80434.05       NaN\n",
              "\n",
              "[5 rows x 29 columns]"
            ]
          },
          "metadata": {
            "tags": []
          },
          "execution_count": 4
        }
      ]
    },
    {
      "cell_type": "markdown",
      "metadata": {
        "id": "ETWh-SWx9WyU"
      },
      "source": [
        "Убираем лишние колонки"
      ]
    },
    {
      "cell_type": "code",
      "metadata": {
        "colab": {
          "base_uri": "https://localhost:8080/"
        },
        "id": "XMYnAAEc9O_D",
        "outputId": "5dd59a19-3edd-4373-bf46-1ce0a7957ec3"
      },
      "source": [
        "df1.columns"
      ],
      "execution_count": null,
      "outputs": [
        {
          "output_type": "execute_result",
          "data": {
            "text/plain": [
              "Index(['№ заявки', 'Статус заявки', 'Тип', 'Дата продажи',\n",
              "       'Дата создания заявки', 'Плательщик', 'Теплоход', 'Даты рейса',\n",
              "       'Услуга', 'Турист', 'Дата рождения', 'Гражданство',\n",
              "       'Города отправления - прибытия', 'Количество дней круиза', 'Каюта',\n",
              "       'Стоимость у оператора', 'Скидка оператора %', 'Скидка оператора, руб',\n",
              "       'Основание', 'Всего с учетом скидки', 'Комиссия, %', 'Комиссия, руб',\n",
              "       'Скидка, %', 'Скидка, руб', 'Наценка', 'Получено с туриста', 'Прибыль',\n",
              "       'Оплачено оператору', 'Пересадка'],\n",
              "      dtype='object')"
            ]
          },
          "metadata": {
            "tags": []
          },
          "execution_count": 5
        }
      ]
    },
    {
      "cell_type": "code",
      "metadata": {
        "id": "qdsORc2-9Tts"
      },
      "source": [
        "df3=df1[ ['№ заявки', 'Статус заявки', 'Тип', 'Дата продажи',\r\n",
        "       'Дата создания заявки', 'Плательщик', 'Теплоход', 'Даты рейса',\r\n",
        "       'Услуга', 'Турист', 'Дата рождения','Города отправления - прибытия', 'Количество дней круиза','Прибыль'] ]"
      ],
      "execution_count": null,
      "outputs": []
    },
    {
      "cell_type": "code",
      "metadata": {
        "colab": {
          "base_uri": "https://localhost:8080/",
          "height": 408
        },
        "id": "p9AaCl08-EAI",
        "outputId": "74136c2b-6c76-43be-d471-f23bf68f7a52"
      },
      "source": [
        "df3.head()"
      ],
      "execution_count": null,
      "outputs": [
        {
          "output_type": "execute_result",
          "data": {
            "text/html": [
              "<div>\n",
              "<style scoped>\n",
              "    .dataframe tbody tr th:only-of-type {\n",
              "        vertical-align: middle;\n",
              "    }\n",
              "\n",
              "    .dataframe tbody tr th {\n",
              "        vertical-align: top;\n",
              "    }\n",
              "\n",
              "    .dataframe thead th {\n",
              "        text-align: right;\n",
              "    }\n",
              "</style>\n",
              "<table border=\"1\" class=\"dataframe\">\n",
              "  <thead>\n",
              "    <tr style=\"text-align: right;\">\n",
              "      <th></th>\n",
              "      <th>№ заявки</th>\n",
              "      <th>Статус заявки</th>\n",
              "      <th>Тип</th>\n",
              "      <th>Дата продажи</th>\n",
              "      <th>Дата создания заявки</th>\n",
              "      <th>Плательщик</th>\n",
              "      <th>Теплоход</th>\n",
              "      <th>Даты рейса</th>\n",
              "      <th>Услуга</th>\n",
              "      <th>Турист</th>\n",
              "      <th>Дата рождения</th>\n",
              "      <th>Города отправления - прибытия</th>\n",
              "      <th>Количество дней круиза</th>\n",
              "      <th>Прибыль</th>\n",
              "    </tr>\n",
              "  </thead>\n",
              "  <tbody>\n",
              "    <tr>\n",
              "      <th>0</th>\n",
              "      <td>522858</td>\n",
              "      <td>Оплачено.</td>\n",
              "      <td>Оплата</td>\n",
              "      <td>21.01.2019</td>\n",
              "      <td>18.01.2019</td>\n",
              "      <td>Астарта Групп</td>\n",
              "      <td>Costa Mediterranea</td>\n",
              "      <td>02.02.2019 - 09.02.2019</td>\n",
              "      <td>Круиз</td>\n",
              "      <td>Filippova Valentina .</td>\n",
              "      <td>11.11.1961</td>\n",
              "      <td>United Arab Emirates, Oman -</td>\n",
              "      <td>7</td>\n",
              "      <td>-1076.26</td>\n",
              "    </tr>\n",
              "    <tr>\n",
              "      <th>1</th>\n",
              "      <td>522858</td>\n",
              "      <td>Оплачено.</td>\n",
              "      <td>Оплата</td>\n",
              "      <td>21.01.2019</td>\n",
              "      <td>18.01.2019</td>\n",
              "      <td>Астарта Групп</td>\n",
              "      <td>Costa Mediterranea</td>\n",
              "      <td>02.02.2019 - 09.02.2019</td>\n",
              "      <td>Круиз</td>\n",
              "      <td>Filippov Vladimir .</td>\n",
              "      <td>17.09.1961</td>\n",
              "      <td>United Arab Emirates, Oman -</td>\n",
              "      <td>7</td>\n",
              "      <td>0.00</td>\n",
              "    </tr>\n",
              "    <tr>\n",
              "      <th>2</th>\n",
              "      <td>522858</td>\n",
              "      <td>Оплачено.</td>\n",
              "      <td>Оплата</td>\n",
              "      <td>21.01.2019</td>\n",
              "      <td>18.01.2019</td>\n",
              "      <td>Астарта Групп</td>\n",
              "      <td>Costa Mediterranea</td>\n",
              "      <td>02.02.2019 - 09.02.2019</td>\n",
              "      <td>Круиз</td>\n",
              "      <td>Filippov Iurii .</td>\n",
              "      <td>18.02.2011</td>\n",
              "      <td>United Arab Emirates, Oman -</td>\n",
              "      <td>7</td>\n",
              "      <td>0.00</td>\n",
              "    </tr>\n",
              "    <tr>\n",
              "      <th>3</th>\n",
              "      <td>522858</td>\n",
              "      <td>Оплачено.</td>\n",
              "      <td>Оплата</td>\n",
              "      <td>21.01.2019</td>\n",
              "      <td>18.01.2019</td>\n",
              "      <td>Астарта Групп</td>\n",
              "      <td>Costa Mediterranea</td>\n",
              "      <td>02.02.2019 - 09.02.2019</td>\n",
              "      <td>Сбор</td>\n",
              "      <td>—</td>\n",
              "      <td>—</td>\n",
              "      <td>United Arab Emirates, Oman -</td>\n",
              "      <td>7</td>\n",
              "      <td>0.00</td>\n",
              "    </tr>\n",
              "    <tr>\n",
              "      <th>4</th>\n",
              "      <td>1 / 0</td>\n",
              "      <td>NaN</td>\n",
              "      <td>NaN</td>\n",
              "      <td>NaN</td>\n",
              "      <td>NaN</td>\n",
              "      <td>NaN</td>\n",
              "      <td>Costa Mediterranea</td>\n",
              "      <td>02.02.2019 - 09.02.2019</td>\n",
              "      <td>NaN</td>\n",
              "      <td>1</td>\n",
              "      <td>NaN</td>\n",
              "      <td>NaN</td>\n",
              "      <td>NaN</td>\n",
              "      <td>-1076.26</td>\n",
              "    </tr>\n",
              "  </tbody>\n",
              "</table>\n",
              "</div>"
            ],
            "text/plain": [
              "  № заявки Статус заявки  ... Количество дней круиза  Прибыль\n",
              "0   522858    Оплачено.   ...                      7 -1076.26\n",
              "1   522858    Оплачено.   ...                      7     0.00\n",
              "2   522858    Оплачено.   ...                      7     0.00\n",
              "3   522858    Оплачено.   ...                      7     0.00\n",
              "4    1 / 0           NaN  ...                    NaN -1076.26\n",
              "\n",
              "[5 rows x 14 columns]"
            ]
          },
          "metadata": {
            "tags": []
          },
          "execution_count": 7
        }
      ]
    },
    {
      "cell_type": "markdown",
      "metadata": {
        "id": "SkmPCuXvBH7r"
      },
      "source": [
        "Убираем строки с ошибками"
      ]
    },
    {
      "cell_type": "code",
      "metadata": {
        "id": "fLoZJxLOUHXX"
      },
      "source": [
        " df2=df1.replace(r'\\s+', np.nan, inplace=True)"
      ],
      "execution_count": null,
      "outputs": []
    },
    {
      "cell_type": "code",
      "metadata": {
        "id": "9n5PSMkuBQgh"
      },
      "source": [
        "df2=df3.dropna()"
      ],
      "execution_count": null,
      "outputs": []
    },
    {
      "cell_type": "code",
      "metadata": {
        "colab": {
          "base_uri": "https://localhost:8080/",
          "height": 442
        },
        "id": "f_4ZnflxQJfP",
        "outputId": "0f252363-464d-4723-c7f2-e5a0aa5a62cb"
      },
      "source": [
        "df2.head()"
      ],
      "execution_count": null,
      "outputs": [
        {
          "output_type": "execute_result",
          "data": {
            "text/html": [
              "<div>\n",
              "<style scoped>\n",
              "    .dataframe tbody tr th:only-of-type {\n",
              "        vertical-align: middle;\n",
              "    }\n",
              "\n",
              "    .dataframe tbody tr th {\n",
              "        vertical-align: top;\n",
              "    }\n",
              "\n",
              "    .dataframe thead th {\n",
              "        text-align: right;\n",
              "    }\n",
              "</style>\n",
              "<table border=\"1\" class=\"dataframe\">\n",
              "  <thead>\n",
              "    <tr style=\"text-align: right;\">\n",
              "      <th></th>\n",
              "      <th>№ заявки</th>\n",
              "      <th>Статус заявки</th>\n",
              "      <th>Тип</th>\n",
              "      <th>Дата продажи</th>\n",
              "      <th>Дата создания заявки</th>\n",
              "      <th>Плательщик</th>\n",
              "      <th>Теплоход</th>\n",
              "      <th>Даты рейса</th>\n",
              "      <th>Услуга</th>\n",
              "      <th>Турист</th>\n",
              "      <th>Дата рождения</th>\n",
              "      <th>Города отправления - прибытия</th>\n",
              "      <th>Количество дней круиза</th>\n",
              "      <th>Прибыль</th>\n",
              "    </tr>\n",
              "  </thead>\n",
              "  <tbody>\n",
              "    <tr>\n",
              "      <th>0</th>\n",
              "      <td>522858</td>\n",
              "      <td>Оплачено.</td>\n",
              "      <td>Оплата</td>\n",
              "      <td>21.01.2019</td>\n",
              "      <td>18.01.2019</td>\n",
              "      <td>Астарта Групп</td>\n",
              "      <td>Costa Mediterranea</td>\n",
              "      <td>02.02.2019 - 09.02.2019</td>\n",
              "      <td>Круиз</td>\n",
              "      <td>Filippova Valentina .</td>\n",
              "      <td>11.11.1961</td>\n",
              "      <td>United Arab Emirates, Oman -</td>\n",
              "      <td>7</td>\n",
              "      <td>-1076.26</td>\n",
              "    </tr>\n",
              "    <tr>\n",
              "      <th>1</th>\n",
              "      <td>522858</td>\n",
              "      <td>Оплачено.</td>\n",
              "      <td>Оплата</td>\n",
              "      <td>21.01.2019</td>\n",
              "      <td>18.01.2019</td>\n",
              "      <td>Астарта Групп</td>\n",
              "      <td>Costa Mediterranea</td>\n",
              "      <td>02.02.2019 - 09.02.2019</td>\n",
              "      <td>Круиз</td>\n",
              "      <td>Filippov Vladimir .</td>\n",
              "      <td>17.09.1961</td>\n",
              "      <td>United Arab Emirates, Oman -</td>\n",
              "      <td>7</td>\n",
              "      <td>0.00</td>\n",
              "    </tr>\n",
              "    <tr>\n",
              "      <th>2</th>\n",
              "      <td>522858</td>\n",
              "      <td>Оплачено.</td>\n",
              "      <td>Оплата</td>\n",
              "      <td>21.01.2019</td>\n",
              "      <td>18.01.2019</td>\n",
              "      <td>Астарта Групп</td>\n",
              "      <td>Costa Mediterranea</td>\n",
              "      <td>02.02.2019 - 09.02.2019</td>\n",
              "      <td>Круиз</td>\n",
              "      <td>Filippov Iurii .</td>\n",
              "      <td>18.02.2011</td>\n",
              "      <td>United Arab Emirates, Oman -</td>\n",
              "      <td>7</td>\n",
              "      <td>0.00</td>\n",
              "    </tr>\n",
              "    <tr>\n",
              "      <th>3</th>\n",
              "      <td>522858</td>\n",
              "      <td>Оплачено.</td>\n",
              "      <td>Оплата</td>\n",
              "      <td>21.01.2019</td>\n",
              "      <td>18.01.2019</td>\n",
              "      <td>Астарта Групп</td>\n",
              "      <td>Costa Mediterranea</td>\n",
              "      <td>02.02.2019 - 09.02.2019</td>\n",
              "      <td>Сбор</td>\n",
              "      <td>—</td>\n",
              "      <td>—</td>\n",
              "      <td>United Arab Emirates, Oman -</td>\n",
              "      <td>7</td>\n",
              "      <td>0.00</td>\n",
              "    </tr>\n",
              "    <tr>\n",
              "      <th>8</th>\n",
              "      <td>516129</td>\n",
              "      <td>Оплачено.</td>\n",
              "      <td>Оплата</td>\n",
              "      <td>21.01.2019</td>\n",
              "      <td>12.11.2018</td>\n",
              "      <td>Астарта Групп</td>\n",
              "      <td>Costa Pacifica</td>\n",
              "      <td>12.04.2019 - 22.04.2019</td>\n",
              "      <td>Круиз</td>\n",
              "      <td>Bateneva Irina .</td>\n",
              "      <td>18.02.1956</td>\n",
              "      <td>Italy, France, Canary Islands, Madeira , Spain -</td>\n",
              "      <td>9</td>\n",
              "      <td>-1152.96</td>\n",
              "    </tr>\n",
              "  </tbody>\n",
              "</table>\n",
              "</div>"
            ],
            "text/plain": [
              "  № заявки Статус заявки  ... Количество дней круиза  Прибыль\n",
              "0   522858    Оплачено.   ...                      7 -1076.26\n",
              "1   522858    Оплачено.   ...                      7     0.00\n",
              "2   522858    Оплачено.   ...                      7     0.00\n",
              "3   522858    Оплачено.   ...                      7     0.00\n",
              "8   516129    Оплачено.   ...                      9 -1152.96\n",
              "\n",
              "[5 rows x 14 columns]"
            ]
          },
          "metadata": {
            "tags": []
          },
          "execution_count": 10
        }
      ]
    },
    {
      "cell_type": "markdown",
      "metadata": {
        "id": "MH2YzJaGFECf"
      },
      "source": [
        "Меняем формат данных"
      ]
    },
    {
      "cell_type": "code",
      "metadata": {
        "colab": {
          "base_uri": "https://localhost:8080/"
        },
        "id": "M0qraSfnFJ_K",
        "outputId": "65dde906-351f-4e44-8100-b59efcc02831"
      },
      "source": [
        "df2.info()"
      ],
      "execution_count": null,
      "outputs": [
        {
          "output_type": "stream",
          "text": [
            "<class 'pandas.core.frame.DataFrame'>\n",
            "Int64Index: 171049 entries, 0 to 202731\n",
            "Data columns (total 14 columns):\n",
            " #   Column                         Non-Null Count   Dtype  \n",
            "---  ------                         --------------   -----  \n",
            " 0   № заявки                       171049 non-null  object \n",
            " 1   Статус заявки                  171049 non-null  object \n",
            " 2   Тип                            171049 non-null  object \n",
            " 3   Дата продажи                   171049 non-null  object \n",
            " 4   Дата создания заявки           171049 non-null  object \n",
            " 5   Плательщик                     171049 non-null  object \n",
            " 6   Теплоход                       171049 non-null  object \n",
            " 7   Даты рейса                     171049 non-null  object \n",
            " 8   Услуга                         171049 non-null  object \n",
            " 9   Турист                         171049 non-null  object \n",
            " 10  Дата рождения                  171049 non-null  object \n",
            " 11  Города отправления - прибытия  171049 non-null  object \n",
            " 12  Количество дней круиза         171049 non-null  object \n",
            " 13  Прибыль                        171049 non-null  float64\n",
            "dtypes: float64(1), object(13)\n",
            "memory usage: 19.6+ MB\n"
          ],
          "name": "stdout"
        }
      ]
    },
    {
      "cell_type": "code",
      "metadata": {
        "colab": {
          "base_uri": "https://localhost:8080/"
        },
        "id": "ozS9TKofHLFt",
        "outputId": "a0c54016-2581-4615-b025-4aa805497a1c"
      },
      "source": [
        "df2['Количество дней круиза'] = df2['Количество дней круиза'].astype('int')"
      ],
      "execution_count": null,
      "outputs": [
        {
          "output_type": "stream",
          "text": [
            "/usr/local/lib/python3.6/dist-packages/ipykernel_launcher.py:1: SettingWithCopyWarning: \n",
            "A value is trying to be set on a copy of a slice from a DataFrame.\n",
            "Try using .loc[row_indexer,col_indexer] = value instead\n",
            "\n",
            "See the caveats in the documentation: https://pandas.pydata.org/pandas-docs/stable/user_guide/indexing.html#returning-a-view-versus-a-copy\n",
            "  \"\"\"Entry point for launching an IPython kernel.\n"
          ],
          "name": "stderr"
        }
      ]
    },
    {
      "cell_type": "code",
      "metadata": {
        "colab": {
          "base_uri": "https://localhost:8080/"
        },
        "id": "NzPQhzIZRQ7s",
        "outputId": "b96d382c-c7fd-48e8-b993-e0cbfce4fad7"
      },
      "source": [
        "df2[['Дата продажи', 'Дата создания заявки']] = pd.to_datetime(df2[['Дата продажи', 'Дата создания заявки']].stack()). unstack()\r\n"
      ],
      "execution_count": null,
      "outputs": [
        {
          "output_type": "stream",
          "text": [
            "/usr/local/lib/python3.6/dist-packages/pandas/core/frame.py:3069: SettingWithCopyWarning: \n",
            "A value is trying to be set on a copy of a slice from a DataFrame.\n",
            "Try using .loc[row_indexer,col_indexer] = value instead\n",
            "\n",
            "See the caveats in the documentation: https://pandas.pydata.org/pandas-docs/stable/user_guide/indexing.html#returning-a-view-versus-a-copy\n",
            "  self[k1] = value[k2]\n"
          ],
          "name": "stderr"
        }
      ]
    },
    {
      "cell_type": "code",
      "metadata": {
        "colab": {
          "base_uri": "https://localhost:8080/"
        },
        "id": "aJY0fjt_fBxM",
        "outputId": "e2944600-6d95-4d39-e497-a73510c495bf"
      },
      "source": [
        "df2['Дата рождения'] = pd.to_datetime(df2['Дата рождения'], errors='coerce')"
      ],
      "execution_count": null,
      "outputs": [
        {
          "output_type": "stream",
          "text": [
            "/usr/local/lib/python3.6/dist-packages/ipykernel_launcher.py:1: SettingWithCopyWarning: \n",
            "A value is trying to be set on a copy of a slice from a DataFrame.\n",
            "Try using .loc[row_indexer,col_indexer] = value instead\n",
            "\n",
            "See the caveats in the documentation: https://pandas.pydata.org/pandas-docs/stable/user_guide/indexing.html#returning-a-view-versus-a-copy\n",
            "  \"\"\"Entry point for launching an IPython kernel.\n"
          ],
          "name": "stderr"
        }
      ]
    },
    {
      "cell_type": "code",
      "metadata": {
        "colab": {
          "base_uri": "https://localhost:8080/"
        },
        "id": "SL2ozLoDQT8r",
        "outputId": "40e9c26d-e17f-4c99-bd12-4034aae0e21c"
      },
      "source": [
        "df2.info()"
      ],
      "execution_count": null,
      "outputs": [
        {
          "output_type": "stream",
          "text": [
            "<class 'pandas.core.frame.DataFrame'>\n",
            "Int64Index: 171049 entries, 0 to 202731\n",
            "Data columns (total 14 columns):\n",
            " #   Column                         Non-Null Count   Dtype         \n",
            "---  ------                         --------------   -----         \n",
            " 0   № заявки                       171049 non-null  object        \n",
            " 1   Статус заявки                  171049 non-null  object        \n",
            " 2   Тип                            171049 non-null  object        \n",
            " 3   Дата продажи                   171049 non-null  datetime64[ns]\n",
            " 4   Дата создания заявки           171049 non-null  datetime64[ns]\n",
            " 5   Плательщик                     171049 non-null  object        \n",
            " 6   Теплоход                       171049 non-null  object        \n",
            " 7   Даты рейса                     171049 non-null  object        \n",
            " 8   Услуга                         171049 non-null  object        \n",
            " 9   Турист                         171049 non-null  object        \n",
            " 10  Дата рождения                  159026 non-null  datetime64[ns]\n",
            " 11  Города отправления - прибытия  171049 non-null  object        \n",
            " 12  Количество дней круиза         171049 non-null  int64         \n",
            " 13  Прибыль                        171049 non-null  float64       \n",
            "dtypes: datetime64[ns](3), float64(1), int64(1), object(9)\n",
            "memory usage: 24.6+ MB\n"
          ],
          "name": "stdout"
        }
      ]
    },
    {
      "cell_type": "markdown",
      "metadata": {
        "id": "B3C3hf9DYleI"
      },
      "source": [
        "Убираем отрицательную продолжительность  круиза"
      ]
    },
    {
      "cell_type": "code",
      "metadata": {
        "colab": {
          "base_uri": "https://localhost:8080/",
          "height": 408
        },
        "id": "YpltO_I4Yg1e",
        "outputId": "a631d9ac-7c42-457b-9a0b-669414fb5dde"
      },
      "source": [
        "df7=df2[df2 ['Количество дней круиза'] > 0][['№ заявки', 'Статус заявки', 'Тип', 'Дата продажи',\r\n",
        "       'Дата создания заявки', 'Плательщик', 'Теплоход', 'Даты рейса', 'Услуга',\r\n",
        "       'Турист', 'Дата рождения','Города отправления - прибытия', 'Количество дней круиза','Прибыль']]\r\n",
        "df7. head()"
      ],
      "execution_count": null,
      "outputs": [
        {
          "output_type": "execute_result",
          "data": {
            "text/html": [
              "<div>\n",
              "<style scoped>\n",
              "    .dataframe tbody tr th:only-of-type {\n",
              "        vertical-align: middle;\n",
              "    }\n",
              "\n",
              "    .dataframe tbody tr th {\n",
              "        vertical-align: top;\n",
              "    }\n",
              "\n",
              "    .dataframe thead th {\n",
              "        text-align: right;\n",
              "    }\n",
              "</style>\n",
              "<table border=\"1\" class=\"dataframe\">\n",
              "  <thead>\n",
              "    <tr style=\"text-align: right;\">\n",
              "      <th></th>\n",
              "      <th>№ заявки</th>\n",
              "      <th>Статус заявки</th>\n",
              "      <th>Тип</th>\n",
              "      <th>Дата продажи</th>\n",
              "      <th>Дата создания заявки</th>\n",
              "      <th>Плательщик</th>\n",
              "      <th>Теплоход</th>\n",
              "      <th>Даты рейса</th>\n",
              "      <th>Услуга</th>\n",
              "      <th>Турист</th>\n",
              "      <th>Дата рождения</th>\n",
              "      <th>Города отправления - прибытия</th>\n",
              "      <th>Количество дней круиза</th>\n",
              "      <th>Прибыль</th>\n",
              "    </tr>\n",
              "  </thead>\n",
              "  <tbody>\n",
              "    <tr>\n",
              "      <th>0</th>\n",
              "      <td>522858</td>\n",
              "      <td>Оплачено.</td>\n",
              "      <td>Оплата</td>\n",
              "      <td>2019-01-21</td>\n",
              "      <td>2019-01-18</td>\n",
              "      <td>Астарта Групп</td>\n",
              "      <td>Costa Mediterranea</td>\n",
              "      <td>02.02.2019 - 09.02.2019</td>\n",
              "      <td>Круиз</td>\n",
              "      <td>Filippova Valentina .</td>\n",
              "      <td>1961-11-11</td>\n",
              "      <td>United Arab Emirates, Oman -</td>\n",
              "      <td>7</td>\n",
              "      <td>-1076.26</td>\n",
              "    </tr>\n",
              "    <tr>\n",
              "      <th>1</th>\n",
              "      <td>522858</td>\n",
              "      <td>Оплачено.</td>\n",
              "      <td>Оплата</td>\n",
              "      <td>2019-01-21</td>\n",
              "      <td>2019-01-18</td>\n",
              "      <td>Астарта Групп</td>\n",
              "      <td>Costa Mediterranea</td>\n",
              "      <td>02.02.2019 - 09.02.2019</td>\n",
              "      <td>Круиз</td>\n",
              "      <td>Filippov Vladimir .</td>\n",
              "      <td>1961-09-17</td>\n",
              "      <td>United Arab Emirates, Oman -</td>\n",
              "      <td>7</td>\n",
              "      <td>0.00</td>\n",
              "    </tr>\n",
              "    <tr>\n",
              "      <th>2</th>\n",
              "      <td>522858</td>\n",
              "      <td>Оплачено.</td>\n",
              "      <td>Оплата</td>\n",
              "      <td>2019-01-21</td>\n",
              "      <td>2019-01-18</td>\n",
              "      <td>Астарта Групп</td>\n",
              "      <td>Costa Mediterranea</td>\n",
              "      <td>02.02.2019 - 09.02.2019</td>\n",
              "      <td>Круиз</td>\n",
              "      <td>Filippov Iurii .</td>\n",
              "      <td>2011-02-18</td>\n",
              "      <td>United Arab Emirates, Oman -</td>\n",
              "      <td>7</td>\n",
              "      <td>0.00</td>\n",
              "    </tr>\n",
              "    <tr>\n",
              "      <th>3</th>\n",
              "      <td>522858</td>\n",
              "      <td>Оплачено.</td>\n",
              "      <td>Оплата</td>\n",
              "      <td>2019-01-21</td>\n",
              "      <td>2019-01-18</td>\n",
              "      <td>Астарта Групп</td>\n",
              "      <td>Costa Mediterranea</td>\n",
              "      <td>02.02.2019 - 09.02.2019</td>\n",
              "      <td>Сбор</td>\n",
              "      <td>—</td>\n",
              "      <td>NaT</td>\n",
              "      <td>United Arab Emirates, Oman -</td>\n",
              "      <td>7</td>\n",
              "      <td>0.00</td>\n",
              "    </tr>\n",
              "    <tr>\n",
              "      <th>8</th>\n",
              "      <td>516129</td>\n",
              "      <td>Оплачено.</td>\n",
              "      <td>Оплата</td>\n",
              "      <td>2019-01-21</td>\n",
              "      <td>2018-12-11</td>\n",
              "      <td>Астарта Групп</td>\n",
              "      <td>Costa Pacifica</td>\n",
              "      <td>12.04.2019 - 22.04.2019</td>\n",
              "      <td>Круиз</td>\n",
              "      <td>Bateneva Irina .</td>\n",
              "      <td>1956-02-18</td>\n",
              "      <td>Italy, France, Canary Islands, Madeira , Spain -</td>\n",
              "      <td>9</td>\n",
              "      <td>-1152.96</td>\n",
              "    </tr>\n",
              "  </tbody>\n",
              "</table>\n",
              "</div>"
            ],
            "text/plain": [
              "  № заявки Статус заявки  ... Количество дней круиза  Прибыль\n",
              "0   522858    Оплачено.   ...                      7 -1076.26\n",
              "1   522858    Оплачено.   ...                      7     0.00\n",
              "2   522858    Оплачено.   ...                      7     0.00\n",
              "3   522858    Оплачено.   ...                      7     0.00\n",
              "8   516129    Оплачено.   ...                      9 -1152.96\n",
              "\n",
              "[5 rows x 14 columns]"
            ]
          },
          "metadata": {
            "tags": []
          },
          "execution_count": 16
        }
      ]
    },
    {
      "cell_type": "code",
      "metadata": {
        "id": "-ND8-4cIYgix"
      },
      "source": [
        "df8=df7.dropna()"
      ],
      "execution_count": null,
      "outputs": []
    },
    {
      "cell_type": "markdown",
      "metadata": {
        "id": "C7BbuPgcCzPO"
      },
      "source": [
        "Оставляем данные только с Услугой \"Круиз\""
      ]
    },
    {
      "cell_type": "code",
      "metadata": {
        "colab": {
          "base_uri": "https://localhost:8080/",
          "height": 357
        },
        "id": "3qJgx16WCxG8",
        "outputId": "4b421cb3-be18-44fe-b52a-60fd02b608f2"
      },
      "source": [
        "df=df8[df8 ['Услуга']== \"Круиз\"][['№ заявки', 'Статус заявки', 'Тип', 'Дата продажи',\r\n",
        "       'Дата создания заявки', 'Плательщик', 'Теплоход', 'Даты рейса',\r\n",
        "       'Турист', 'Дата рождения','Города отправления - прибытия', 'Количество дней круиза','Прибыль']]\r\n",
        "df. head()"
      ],
      "execution_count": null,
      "outputs": [
        {
          "output_type": "execute_result",
          "data": {
            "text/html": [
              "<div>\n",
              "<style scoped>\n",
              "    .dataframe tbody tr th:only-of-type {\n",
              "        vertical-align: middle;\n",
              "    }\n",
              "\n",
              "    .dataframe tbody tr th {\n",
              "        vertical-align: top;\n",
              "    }\n",
              "\n",
              "    .dataframe thead th {\n",
              "        text-align: right;\n",
              "    }\n",
              "</style>\n",
              "<table border=\"1\" class=\"dataframe\">\n",
              "  <thead>\n",
              "    <tr style=\"text-align: right;\">\n",
              "      <th></th>\n",
              "      <th>№ заявки</th>\n",
              "      <th>Статус заявки</th>\n",
              "      <th>Тип</th>\n",
              "      <th>Дата продажи</th>\n",
              "      <th>Дата создания заявки</th>\n",
              "      <th>Плательщик</th>\n",
              "      <th>Теплоход</th>\n",
              "      <th>Даты рейса</th>\n",
              "      <th>Турист</th>\n",
              "      <th>Дата рождения</th>\n",
              "      <th>Города отправления - прибытия</th>\n",
              "      <th>Количество дней круиза</th>\n",
              "      <th>Прибыль</th>\n",
              "    </tr>\n",
              "  </thead>\n",
              "  <tbody>\n",
              "    <tr>\n",
              "      <th>0</th>\n",
              "      <td>522858</td>\n",
              "      <td>Оплачено.</td>\n",
              "      <td>Оплата</td>\n",
              "      <td>2019-01-21</td>\n",
              "      <td>2019-01-18</td>\n",
              "      <td>Астарта Групп</td>\n",
              "      <td>Costa Mediterranea</td>\n",
              "      <td>02.02.2019 - 09.02.2019</td>\n",
              "      <td>Filippova Valentina .</td>\n",
              "      <td>1961-11-11</td>\n",
              "      <td>United Arab Emirates, Oman -</td>\n",
              "      <td>7</td>\n",
              "      <td>-1076.26</td>\n",
              "    </tr>\n",
              "    <tr>\n",
              "      <th>1</th>\n",
              "      <td>522858</td>\n",
              "      <td>Оплачено.</td>\n",
              "      <td>Оплата</td>\n",
              "      <td>2019-01-21</td>\n",
              "      <td>2019-01-18</td>\n",
              "      <td>Астарта Групп</td>\n",
              "      <td>Costa Mediterranea</td>\n",
              "      <td>02.02.2019 - 09.02.2019</td>\n",
              "      <td>Filippov Vladimir .</td>\n",
              "      <td>1961-09-17</td>\n",
              "      <td>United Arab Emirates, Oman -</td>\n",
              "      <td>7</td>\n",
              "      <td>0.00</td>\n",
              "    </tr>\n",
              "    <tr>\n",
              "      <th>2</th>\n",
              "      <td>522858</td>\n",
              "      <td>Оплачено.</td>\n",
              "      <td>Оплата</td>\n",
              "      <td>2019-01-21</td>\n",
              "      <td>2019-01-18</td>\n",
              "      <td>Астарта Групп</td>\n",
              "      <td>Costa Mediterranea</td>\n",
              "      <td>02.02.2019 - 09.02.2019</td>\n",
              "      <td>Filippov Iurii .</td>\n",
              "      <td>2011-02-18</td>\n",
              "      <td>United Arab Emirates, Oman -</td>\n",
              "      <td>7</td>\n",
              "      <td>0.00</td>\n",
              "    </tr>\n",
              "    <tr>\n",
              "      <th>8</th>\n",
              "      <td>516129</td>\n",
              "      <td>Оплачено.</td>\n",
              "      <td>Оплата</td>\n",
              "      <td>2019-01-21</td>\n",
              "      <td>2018-12-11</td>\n",
              "      <td>Астарта Групп</td>\n",
              "      <td>Costa Pacifica</td>\n",
              "      <td>12.04.2019 - 22.04.2019</td>\n",
              "      <td>Bateneva Irina .</td>\n",
              "      <td>1956-02-18</td>\n",
              "      <td>Italy, France, Canary Islands, Madeira , Spain -</td>\n",
              "      <td>9</td>\n",
              "      <td>-1152.96</td>\n",
              "    </tr>\n",
              "    <tr>\n",
              "      <th>9</th>\n",
              "      <td>516129</td>\n",
              "      <td>Оплачено.</td>\n",
              "      <td>Оплата</td>\n",
              "      <td>2019-01-21</td>\n",
              "      <td>2018-12-11</td>\n",
              "      <td>Астарта Групп</td>\n",
              "      <td>Costa Pacifica</td>\n",
              "      <td>12.04.2019 - 22.04.2019</td>\n",
              "      <td>Batenev Evgenii .</td>\n",
              "      <td>1949-08-22</td>\n",
              "      <td>Italy, France, Canary Islands, Madeira , Spain -</td>\n",
              "      <td>9</td>\n",
              "      <td>0.00</td>\n",
              "    </tr>\n",
              "  </tbody>\n",
              "</table>\n",
              "</div>"
            ],
            "text/plain": [
              "  № заявки Статус заявки  ... Количество дней круиза  Прибыль\n",
              "0   522858    Оплачено.   ...                      7 -1076.26\n",
              "1   522858    Оплачено.   ...                      7     0.00\n",
              "2   522858    Оплачено.   ...                      7     0.00\n",
              "8   516129    Оплачено.   ...                      9 -1152.96\n",
              "9   516129    Оплачено.   ...                      9     0.00\n",
              "\n",
              "[5 rows x 13 columns]"
            ]
          },
          "metadata": {
            "tags": []
          },
          "execution_count": 18
        }
      ]
    },
    {
      "cell_type": "markdown",
      "metadata": {
        "id": "fNfmfyJhm41y"
      },
      "source": [
        "Создаем столбец с возрастом"
      ]
    },
    {
      "cell_type": "code",
      "metadata": {
        "id": "_myN6d89opaB"
      },
      "source": [
        "from datetime import date"
      ],
      "execution_count": null,
      "outputs": []
    },
    {
      "cell_type": "code",
      "metadata": {
        "id": "dVnSRsgHCw82"
      },
      "source": [
        "today = date.today()\r\n",
        "df['Возраст']=df['Дата рождения'].apply(\r\n",
        "               lambda x: today.year - x.year - \r\n",
        "               ((today.month, today.day) < (x.month, x.day)) \r\n",
        "               )\r\n",
        "\r\n"
      ],
      "execution_count": null,
      "outputs": []
    },
    {
      "cell_type": "code",
      "metadata": {
        "colab": {
          "base_uri": "https://localhost:8080/",
          "height": 442
        },
        "id": "v8W9dJdPq6yi",
        "outputId": "5aaba5b0-0057-43c5-f415-ee6d591a1c7d"
      },
      "source": [
        "df.head()"
      ],
      "execution_count": null,
      "outputs": [
        {
          "output_type": "execute_result",
          "data": {
            "text/html": [
              "<div>\n",
              "<style scoped>\n",
              "    .dataframe tbody tr th:only-of-type {\n",
              "        vertical-align: middle;\n",
              "    }\n",
              "\n",
              "    .dataframe tbody tr th {\n",
              "        vertical-align: top;\n",
              "    }\n",
              "\n",
              "    .dataframe thead th {\n",
              "        text-align: right;\n",
              "    }\n",
              "</style>\n",
              "<table border=\"1\" class=\"dataframe\">\n",
              "  <thead>\n",
              "    <tr style=\"text-align: right;\">\n",
              "      <th></th>\n",
              "      <th>№ заявки</th>\n",
              "      <th>Статус заявки</th>\n",
              "      <th>Тип</th>\n",
              "      <th>Дата продажи</th>\n",
              "      <th>Дата создания заявки</th>\n",
              "      <th>Плательщик</th>\n",
              "      <th>Теплоход</th>\n",
              "      <th>Даты рейса</th>\n",
              "      <th>Турист</th>\n",
              "      <th>Дата рождения</th>\n",
              "      <th>Города отправления - прибытия</th>\n",
              "      <th>Количество дней круиза</th>\n",
              "      <th>Прибыль</th>\n",
              "      <th>Возраст</th>\n",
              "    </tr>\n",
              "  </thead>\n",
              "  <tbody>\n",
              "    <tr>\n",
              "      <th>0</th>\n",
              "      <td>522858</td>\n",
              "      <td>Оплачено.</td>\n",
              "      <td>Оплата</td>\n",
              "      <td>2019-01-21</td>\n",
              "      <td>2019-01-18</td>\n",
              "      <td>Астарта Групп</td>\n",
              "      <td>Costa Mediterranea</td>\n",
              "      <td>02.02.2019 - 09.02.2019</td>\n",
              "      <td>Filippova Valentina .</td>\n",
              "      <td>1961-11-11</td>\n",
              "      <td>United Arab Emirates, Oman -</td>\n",
              "      <td>7</td>\n",
              "      <td>-1076.26</td>\n",
              "      <td>59</td>\n",
              "    </tr>\n",
              "    <tr>\n",
              "      <th>1</th>\n",
              "      <td>522858</td>\n",
              "      <td>Оплачено.</td>\n",
              "      <td>Оплата</td>\n",
              "      <td>2019-01-21</td>\n",
              "      <td>2019-01-18</td>\n",
              "      <td>Астарта Групп</td>\n",
              "      <td>Costa Mediterranea</td>\n",
              "      <td>02.02.2019 - 09.02.2019</td>\n",
              "      <td>Filippov Vladimir .</td>\n",
              "      <td>1961-09-17</td>\n",
              "      <td>United Arab Emirates, Oman -</td>\n",
              "      <td>7</td>\n",
              "      <td>0.00</td>\n",
              "      <td>59</td>\n",
              "    </tr>\n",
              "    <tr>\n",
              "      <th>2</th>\n",
              "      <td>522858</td>\n",
              "      <td>Оплачено.</td>\n",
              "      <td>Оплата</td>\n",
              "      <td>2019-01-21</td>\n",
              "      <td>2019-01-18</td>\n",
              "      <td>Астарта Групп</td>\n",
              "      <td>Costa Mediterranea</td>\n",
              "      <td>02.02.2019 - 09.02.2019</td>\n",
              "      <td>Filippov Iurii .</td>\n",
              "      <td>2011-02-18</td>\n",
              "      <td>United Arab Emirates, Oman -</td>\n",
              "      <td>7</td>\n",
              "      <td>0.00</td>\n",
              "      <td>9</td>\n",
              "    </tr>\n",
              "    <tr>\n",
              "      <th>8</th>\n",
              "      <td>516129</td>\n",
              "      <td>Оплачено.</td>\n",
              "      <td>Оплата</td>\n",
              "      <td>2019-01-21</td>\n",
              "      <td>2018-12-11</td>\n",
              "      <td>Астарта Групп</td>\n",
              "      <td>Costa Pacifica</td>\n",
              "      <td>12.04.2019 - 22.04.2019</td>\n",
              "      <td>Bateneva Irina .</td>\n",
              "      <td>1956-02-18</td>\n",
              "      <td>Italy, France, Canary Islands, Madeira , Spain -</td>\n",
              "      <td>9</td>\n",
              "      <td>-1152.96</td>\n",
              "      <td>64</td>\n",
              "    </tr>\n",
              "    <tr>\n",
              "      <th>9</th>\n",
              "      <td>516129</td>\n",
              "      <td>Оплачено.</td>\n",
              "      <td>Оплата</td>\n",
              "      <td>2019-01-21</td>\n",
              "      <td>2018-12-11</td>\n",
              "      <td>Астарта Групп</td>\n",
              "      <td>Costa Pacifica</td>\n",
              "      <td>12.04.2019 - 22.04.2019</td>\n",
              "      <td>Batenev Evgenii .</td>\n",
              "      <td>1949-08-22</td>\n",
              "      <td>Italy, France, Canary Islands, Madeira , Spain -</td>\n",
              "      <td>9</td>\n",
              "      <td>0.00</td>\n",
              "      <td>71</td>\n",
              "    </tr>\n",
              "  </tbody>\n",
              "</table>\n",
              "</div>"
            ],
            "text/plain": [
              "  № заявки Статус заявки     Тип  ... Количество дней круиза  Прибыль Возраст\n",
              "0   522858    Оплачено.   Оплата  ...                      7 -1076.26      59\n",
              "1   522858    Оплачено.   Оплата  ...                      7     0.00      59\n",
              "2   522858    Оплачено.   Оплата  ...                      7     0.00       9\n",
              "8   516129    Оплачено.   Оплата  ...                      9 -1152.96      64\n",
              "9   516129    Оплачено.   Оплата  ...                      9     0.00      71\n",
              "\n",
              "[5 rows x 14 columns]"
            ]
          },
          "metadata": {
            "tags": []
          },
          "execution_count": 21
        }
      ]
    },
    {
      "cell_type": "markdown",
      "metadata": {
        "id": "VGJNxYO5Cwqk"
      },
      "source": [
        "Сохраняем ДФ для последующей работы в программе Power BI desktop"
      ]
    },
    {
      "cell_type": "code",
      "metadata": {
        "id": "T7HzpsHTr4v3"
      },
      "source": [
        "df.to_csv(\"PBI.csv\")"
      ],
      "execution_count": null,
      "outputs": []
    },
    {
      "cell_type": "markdown",
      "metadata": {
        "id": "hdbEy3JWUK0c"
      },
      "source": [
        "2. Анализ"
      ]
    },
    {
      "cell_type": "markdown",
      "metadata": {
        "id": "c100zID0UKhw"
      },
      "source": [
        "Выявить плательщиков - агентов, приносящих наибольшую прибыль (топ-5 и топ-20)."
      ]
    },
    {
      "cell_type": "code",
      "metadata": {
        "id": "lXkIbeElr4gu"
      },
      "source": [
        "df4=df[['Плательщик', 'Прибыль']].groupby('Плательщик').sum()"
      ],
      "execution_count": null,
      "outputs": []
    },
    {
      "cell_type": "code",
      "metadata": {
        "id": "ZMMAeRH8r4Y5",
        "colab": {
          "base_uri": "https://localhost:8080/",
          "height": 235
        },
        "outputId": "5682fd79-5e97-4053-c824-f7b533fa61e1"
      },
      "source": [
        "df4.sort_values('Прибыль', ascending=False).head(5)"
      ],
      "execution_count": null,
      "outputs": [
        {
          "output_type": "execute_result",
          "data": {
            "text/html": [
              "<div>\n",
              "<style scoped>\n",
              "    .dataframe tbody tr th:only-of-type {\n",
              "        vertical-align: middle;\n",
              "    }\n",
              "\n",
              "    .dataframe tbody tr th {\n",
              "        vertical-align: top;\n",
              "    }\n",
              "\n",
              "    .dataframe thead th {\n",
              "        text-align: right;\n",
              "    }\n",
              "</style>\n",
              "<table border=\"1\" class=\"dataframe\">\n",
              "  <thead>\n",
              "    <tr style=\"text-align: right;\">\n",
              "      <th></th>\n",
              "      <th>Прибыль</th>\n",
              "    </tr>\n",
              "    <tr>\n",
              "      <th>Плательщик</th>\n",
              "      <th></th>\n",
              "    </tr>\n",
              "  </thead>\n",
              "  <tbody>\n",
              "    <tr>\n",
              "      <th>ООО \"Твой круиз\"</th>\n",
              "      <td>3442255.04</td>\n",
              "    </tr>\n",
              "    <tr>\n",
              "      <th>ООО \"ВОЛГА ТУР\"</th>\n",
              "      <td>2425490.49</td>\n",
              "    </tr>\n",
              "    <tr>\n",
              "      <th>ООО ТК Активный Тур</th>\n",
              "      <td>1889684.28</td>\n",
              "    </tr>\n",
              "    <tr>\n",
              "      <th>ООО \"Речфлот\" (фрахт т/х \"Анна Каренина\")</th>\n",
              "      <td>1370339.53</td>\n",
              "    </tr>\n",
              "    <tr>\n",
              "      <th>FOCUS TRAVEL CO., LTD</th>\n",
              "      <td>1357170.99</td>\n",
              "    </tr>\n",
              "  </tbody>\n",
              "</table>\n",
              "</div>"
            ],
            "text/plain": [
              "                                              Прибыль\n",
              "Плательщик                                           \n",
              "ООО \"Твой круиз\"                           3442255.04\n",
              "ООО \"ВОЛГА ТУР\"                            2425490.49\n",
              "ООО ТК Активный Тур                        1889684.28\n",
              "ООО \"Речфлот\" (фрахт т/х \"Анна Каренина\")  1370339.53\n",
              "FOCUS TRAVEL CO., LTD                      1357170.99"
            ]
          },
          "metadata": {
            "tags": []
          },
          "execution_count": 24
        }
      ]
    },
    {
      "cell_type": "code",
      "metadata": {
        "id": "LlnAOYiTr4V3",
        "colab": {
          "base_uri": "https://localhost:8080/",
          "height": 700
        },
        "outputId": "1d10bc71-7eff-45f9-a782-ec9fc869b2a5"
      },
      "source": [
        "df4.sort_values('Прибыль', ascending=False).head(20)"
      ],
      "execution_count": null,
      "outputs": [
        {
          "output_type": "execute_result",
          "data": {
            "text/html": [
              "<div>\n",
              "<style scoped>\n",
              "    .dataframe tbody tr th:only-of-type {\n",
              "        vertical-align: middle;\n",
              "    }\n",
              "\n",
              "    .dataframe tbody tr th {\n",
              "        vertical-align: top;\n",
              "    }\n",
              "\n",
              "    .dataframe thead th {\n",
              "        text-align: right;\n",
              "    }\n",
              "</style>\n",
              "<table border=\"1\" class=\"dataframe\">\n",
              "  <thead>\n",
              "    <tr style=\"text-align: right;\">\n",
              "      <th></th>\n",
              "      <th>Прибыль</th>\n",
              "    </tr>\n",
              "    <tr>\n",
              "      <th>Плательщик</th>\n",
              "      <th></th>\n",
              "    </tr>\n",
              "  </thead>\n",
              "  <tbody>\n",
              "    <tr>\n",
              "      <th>ООО \"Твой круиз\"</th>\n",
              "      <td>3442255.04</td>\n",
              "    </tr>\n",
              "    <tr>\n",
              "      <th>ООО \"ВОЛГА ТУР\"</th>\n",
              "      <td>2425490.49</td>\n",
              "    </tr>\n",
              "    <tr>\n",
              "      <th>ООО ТК Активный Тур</th>\n",
              "      <td>1889684.28</td>\n",
              "    </tr>\n",
              "    <tr>\n",
              "      <th>ООО \"Речфлот\" (фрахт т/х \"Анна Каренина\")</th>\n",
              "      <td>1370339.53</td>\n",
              "    </tr>\n",
              "    <tr>\n",
              "      <th>FOCUS TRAVEL CO., LTD</th>\n",
              "      <td>1357170.99</td>\n",
              "    </tr>\n",
              "    <tr>\n",
              "      <th>Воробьева Элина Викторовна</th>\n",
              "      <td>1318108.15</td>\n",
              "    </tr>\n",
              "    <tr>\n",
              "      <th>ООО «Морские и речные круизы»</th>\n",
              "      <td>1297657.40</td>\n",
              "    </tr>\n",
              "    <tr>\n",
              "      <th>ООО \"Отель-Ресторан-Туризм-Сервис\"</th>\n",
              "      <td>843537.14</td>\n",
              "    </tr>\n",
              "    <tr>\n",
              "      <th>Шашарина Карина Андреевна</th>\n",
              "      <td>829467.77</td>\n",
              "    </tr>\n",
              "    <tr>\n",
              "      <th>ТА Мегафлот (малый флот)</th>\n",
              "      <td>759043.66</td>\n",
              "    </tr>\n",
              "    <tr>\n",
              "      <th>ООО \"Речные путешествия\"</th>\n",
              "      <td>753924.46</td>\n",
              "    </tr>\n",
              "    <tr>\n",
              "      <th>ООО \"Круизная Компания \"Волго-Балтийские путешествия\"</th>\n",
              "      <td>667281.68</td>\n",
              "    </tr>\n",
              "    <tr>\n",
              "      <th>ООО \"Нико Турс Тольятти\"</th>\n",
              "      <td>613313.10</td>\n",
              "    </tr>\n",
              "    <tr>\n",
              "      <th>bron12@delfin.ru</th>\n",
              "      <td>554375.94</td>\n",
              "    </tr>\n",
              "    <tr>\n",
              "      <th>ООО «МП ВОЯЖ»</th>\n",
              "      <td>528584.21</td>\n",
              "    </tr>\n",
              "    <tr>\n",
              "      <th>ООО КруизКомпания \"ИнтурВолга\"</th>\n",
              "      <td>460703.86</td>\n",
              "    </tr>\n",
              "    <tr>\n",
              "      <th>ООО \"Эйпи тревел\"</th>\n",
              "      <td>458955.55</td>\n",
              "    </tr>\n",
              "    <tr>\n",
              "      <th>ООО «Созвездие»</th>\n",
              "      <td>445896.08</td>\n",
              "    </tr>\n",
              "    <tr>\n",
              "      <th>ООО Инфлот круизы и путешествия</th>\n",
              "      <td>418311.77</td>\n",
              "    </tr>\n",
              "    <tr>\n",
              "      <th>ООО Арина</th>\n",
              "      <td>384652.14</td>\n",
              "    </tr>\n",
              "  </tbody>\n",
              "</table>\n",
              "</div>"
            ],
            "text/plain": [
              "                                                       Прибыль\n",
              "Плательщик                                                    \n",
              "ООО \"Твой круиз\"                                    3442255.04\n",
              "ООО \"ВОЛГА ТУР\"                                     2425490.49\n",
              "ООО ТК Активный Тур                                 1889684.28\n",
              "ООО \"Речфлот\" (фрахт т/х \"Анна Каренина\")           1370339.53\n",
              "FOCUS TRAVEL CO., LTD                               1357170.99\n",
              "Воробьева Элина Викторовна                          1318108.15\n",
              "ООО «Морские и речные круизы»                       1297657.40\n",
              "ООО \"Отель-Ресторан-Туризм-Сервис\"                   843537.14\n",
              "Шашарина Карина Андреевна                            829467.77\n",
              "ТА Мегафлот (малый флот)                             759043.66\n",
              "ООО \"Речные путешествия\"                             753924.46\n",
              "ООО \"Круизная Компания \"Волго-Балтийские путеше...   667281.68\n",
              "ООО \"Нико Турс Тольятти\"                             613313.10\n",
              "bron12@delfin.ru                                     554375.94\n",
              "ООО «МП ВОЯЖ»                                        528584.21\n",
              "ООО КруизКомпания \"ИнтурВолга\"                       460703.86\n",
              "ООО \"Эйпи тревел\"                                    458955.55\n",
              "ООО «Созвездие»                                      445896.08\n",
              "ООО Инфлот круизы и путешествия                      418311.77\n",
              "ООО Арина                                            384652.14"
            ]
          },
          "metadata": {
            "tags": []
          },
          "execution_count": 25
        }
      ]
    },
    {
      "cell_type": "markdown",
      "metadata": {
        "id": "GMxjaAoNEun7"
      },
      "source": [
        "Выявить востребованность круизов разной продолжительности: Круиз выходного дня, круиз малой продолжительности, круиз средней продолжительности и длительные круизы у туристов разных возрастов. "
      ]
    },
    {
      "cell_type": "code",
      "metadata": {
        "id": "SxOuaiQERuao"
      },
      "source": [
        "df11 = df[['№ заявки', 'Количество дней круиза', 'Возраст']]"
      ],
      "execution_count": null,
      "outputs": []
    },
    {
      "cell_type": "code",
      "metadata": {
        "colab": {
          "base_uri": "https://localhost:8080/"
        },
        "id": "fO4k8UyXr41h",
        "outputId": "5eb97760-d9e5-4772-9aa9-586f6441e08a"
      },
      "source": [
        "conditions = [\r\n",
        "    (df11['Возраст'] <= 14 ),   \r\n",
        "    (df11['Возраст'] >= 55 )]\r\n",
        "choices = [1, 3]   # 1- Ребенок, 2- Взрослый, 3 - Пенсионер\r\n",
        "df11['Тип туриста'] = np.select(conditions, choices, default= 2)\r\n",
        "print(df11)"
      ],
      "execution_count": null,
      "outputs": [
        {
          "output_type": "stream",
          "text": [
            "       № заявки  Количество дней круиза  Возраст  Тип  Тип круиза  Тип туриста\n",
            "0        522858                       7       59    3           2            3\n",
            "1        522858                       7       59    3           2            3\n",
            "2        522858                       7        9    1           2            1\n",
            "8        516129                       9       64    3           3            3\n",
            "9        516129                       9       71    3           3            3\n",
            "...         ...                     ...      ...  ...         ...          ...\n",
            "202727   634525                       3       53    2           1            2\n",
            "202728   634525                       3       61    3           1            3\n",
            "202729   634525                       3       11    1           1            1\n",
            "202730   634870                       3       59    3           1            3\n",
            "202731   634870                       3       45    2           1            2\n",
            "\n",
            "[156028 rows x 6 columns]\n"
          ],
          "name": "stdout"
        },
        {
          "output_type": "stream",
          "text": [
            "/usr/local/lib/python3.6/dist-packages/ipykernel_launcher.py:5: SettingWithCopyWarning: \n",
            "A value is trying to be set on a copy of a slice from a DataFrame.\n",
            "Try using .loc[row_indexer,col_indexer] = value instead\n",
            "\n",
            "See the caveats in the documentation: https://pandas.pydata.org/pandas-docs/stable/user_guide/indexing.html#returning-a-view-versus-a-copy\n",
            "  \"\"\"\n"
          ],
          "name": "stderr"
        }
      ]
    },
    {
      "cell_type": "code",
      "metadata": {
        "colab": {
          "base_uri": "https://localhost:8080/"
        },
        "id": "mFE01xYctkbp",
        "outputId": "9d3148bc-5187-43c2-a5a3-8052087ca80f"
      },
      "source": [
        "conditions = [\r\n",
        "    (df11['Количество дней круиза'] <= 3),   \r\n",
        "    (df11['Количество дней круиза'] <= 7 ),\r\n",
        "    (df11['Количество дней круиза'] <= 14 )]\r\n",
        "choices = [1, 2, 3]   # 1- КВД, 2 - Короткий, 3- Средний, 4 - Длительный\r\n",
        "df11['Тип круиза'] = np.select(conditions, choices, default= 4)\r\n",
        "print(df11)"
      ],
      "execution_count": null,
      "outputs": [
        {
          "output_type": "stream",
          "text": [
            "       № заявки  Количество дней круиза  Возраст  Тип  Тип круиза\n",
            "0        522858                       7       59    3           2\n",
            "1        522858                       7       59    3           2\n",
            "2        522858                       7        9    1           2\n",
            "8        516129                       9       64    3           3\n",
            "9        516129                       9       71    3           3\n",
            "...         ...                     ...      ...  ...         ...\n",
            "202727   634525                       3       53    2           1\n",
            "202728   634525                       3       61    3           1\n",
            "202729   634525                       3       11    1           1\n",
            "202730   634870                       3       59    3           1\n",
            "202731   634870                       3       45    2           1\n",
            "\n",
            "[156028 rows x 5 columns]\n"
          ],
          "name": "stdout"
        },
        {
          "output_type": "stream",
          "text": [
            "/usr/local/lib/python3.6/dist-packages/ipykernel_launcher.py:6: SettingWithCopyWarning: \n",
            "A value is trying to be set on a copy of a slice from a DataFrame.\n",
            "Try using .loc[row_indexer,col_indexer] = value instead\n",
            "\n",
            "See the caveats in the documentation: https://pandas.pydata.org/pandas-docs/stable/user_guide/indexing.html#returning-a-view-versus-a-copy\n",
            "  \n"
          ],
          "name": "stderr"
        }
      ]
    },
    {
      "cell_type": "markdown",
      "metadata": {
        "id": "Xy34f8JydNch"
      },
      "source": [
        "Смотрим описательную статистику"
      ]
    },
    {
      "cell_type": "code",
      "metadata": {
        "colab": {
          "base_uri": "https://localhost:8080/",
          "height": 297
        },
        "id": "b1HzD_k3dQOO",
        "outputId": "57d9a91f-540f-40e2-dd16-c52202bbc79d"
      },
      "source": [
        "df11.describe()"
      ],
      "execution_count": null,
      "outputs": [
        {
          "output_type": "execute_result",
          "data": {
            "text/html": [
              "<div>\n",
              "<style scoped>\n",
              "    .dataframe tbody tr th:only-of-type {\n",
              "        vertical-align: middle;\n",
              "    }\n",
              "\n",
              "    .dataframe tbody tr th {\n",
              "        vertical-align: top;\n",
              "    }\n",
              "\n",
              "    .dataframe thead th {\n",
              "        text-align: right;\n",
              "    }\n",
              "</style>\n",
              "<table border=\"1\" class=\"dataframe\">\n",
              "  <thead>\n",
              "    <tr style=\"text-align: right;\">\n",
              "      <th></th>\n",
              "      <th>Количество дней круиза</th>\n",
              "      <th>Возраст</th>\n",
              "      <th>Тип</th>\n",
              "      <th>Тип круиза</th>\n",
              "      <th>Тип туриста</th>\n",
              "    </tr>\n",
              "  </thead>\n",
              "  <tbody>\n",
              "    <tr>\n",
              "      <th>count</th>\n",
              "      <td>156028.000000</td>\n",
              "      <td>156028.000000</td>\n",
              "      <td>156028.000000</td>\n",
              "      <td>156028.000000</td>\n",
              "      <td>156028.000000</td>\n",
              "    </tr>\n",
              "    <tr>\n",
              "      <th>mean</th>\n",
              "      <td>4.969877</td>\n",
              "      <td>52.643378</td>\n",
              "      <td>2.488278</td>\n",
              "      <td>1.825897</td>\n",
              "      <td>2.488278</td>\n",
              "    </tr>\n",
              "    <tr>\n",
              "      <th>std</th>\n",
              "      <td>3.681397</td>\n",
              "      <td>19.824170</td>\n",
              "      <td>0.657598</td>\n",
              "      <td>0.742831</td>\n",
              "      <td>0.657598</td>\n",
              "    </tr>\n",
              "    <tr>\n",
              "      <th>min</th>\n",
              "      <td>1.000000</td>\n",
              "      <td>-175.000000</td>\n",
              "      <td>1.000000</td>\n",
              "      <td>1.000000</td>\n",
              "      <td>1.000000</td>\n",
              "    </tr>\n",
              "    <tr>\n",
              "      <th>25%</th>\n",
              "      <td>2.000000</td>\n",
              "      <td>43.000000</td>\n",
              "      <td>2.000000</td>\n",
              "      <td>1.000000</td>\n",
              "      <td>2.000000</td>\n",
              "    </tr>\n",
              "    <tr>\n",
              "      <th>50%</th>\n",
              "      <td>4.000000</td>\n",
              "      <td>58.000000</td>\n",
              "      <td>3.000000</td>\n",
              "      <td>2.000000</td>\n",
              "      <td>3.000000</td>\n",
              "    </tr>\n",
              "    <tr>\n",
              "      <th>75%</th>\n",
              "      <td>6.000000</td>\n",
              "      <td>66.000000</td>\n",
              "      <td>3.000000</td>\n",
              "      <td>2.000000</td>\n",
              "      <td>3.000000</td>\n",
              "    </tr>\n",
              "    <tr>\n",
              "      <th>max</th>\n",
              "      <td>372.000000</td>\n",
              "      <td>330.000000</td>\n",
              "      <td>3.000000</td>\n",
              "      <td>4.000000</td>\n",
              "      <td>3.000000</td>\n",
              "    </tr>\n",
              "  </tbody>\n",
              "</table>\n",
              "</div>"
            ],
            "text/plain": [
              "       Количество дней круиза        Возраст  ...     Тип круиза    Тип туриста\n",
              "count           156028.000000  156028.000000  ...  156028.000000  156028.000000\n",
              "mean                 4.969877      52.643378  ...       1.825897       2.488278\n",
              "std                  3.681397      19.824170  ...       0.742831       0.657598\n",
              "min                  1.000000    -175.000000  ...       1.000000       1.000000\n",
              "25%                  2.000000      43.000000  ...       1.000000       2.000000\n",
              "50%                  4.000000      58.000000  ...       2.000000       3.000000\n",
              "75%                  6.000000      66.000000  ...       2.000000       3.000000\n",
              "max                372.000000     330.000000  ...       4.000000       3.000000\n",
              "\n",
              "[8 rows x 5 columns]"
            ]
          },
          "metadata": {
            "tags": []
          },
          "execution_count": 103
        }
      ]
    },
    {
      "cell_type": "markdown",
      "metadata": {
        "id": "Ze8nq0eVeTkb"
      },
      "source": [
        "Проверяем распределение на нормальность (критерий Шапиро-Уилка)"
      ]
    },
    {
      "cell_type": "code",
      "metadata": {
        "id": "RvEYsa5mdQFD"
      },
      "source": [
        " import scipy.stats"
      ],
      "execution_count": null,
      "outputs": []
    },
    {
      "cell_type": "code",
      "metadata": {
        "id": "LH3NoiXvpjQf"
      },
      "source": [
        "df11.s = df11.sample(30)"
      ],
      "execution_count": null,
      "outputs": []
    },
    {
      "cell_type": "code",
      "metadata": {
        "id": "YQQac2imo42n",
        "colab": {
          "base_uri": "https://localhost:8080/"
        },
        "outputId": "6a0f3d00-a841-4435-f285-57b48a4b5d6d"
      },
      "source": [
        "print(df11.s)"
      ],
      "execution_count": null,
      "outputs": [
        {
          "output_type": "stream",
          "text": [
            "       № заявки  Количество дней круиза  Возраст  Тип  Тип круиза  Тип туриста\n",
            "80033    578724                       4       20    2           2            2\n",
            "57543    550843                       5       43    2           2            2\n",
            "59579    558384                       8       96    3           3            3\n",
            "28257    537458                       2       23    2           1            2\n",
            "162610   615610                       9       71    3           3            3\n",
            "12707    513618                       5       70    3           2            3\n",
            "84471    569303                       2       66    3           1            3\n",
            "158925   604375                       5       58    3           2            3\n",
            "59726    552788                       2       74    3           1            3\n",
            "43559    543701                       9       69    3           3            3\n",
            "6557     528687                       9       58    3           3            3\n",
            "98008    585597                       4       68    3           2            3\n",
            "183309   600831                      22       63    3           4            3\n",
            "160537   627785                       2       75    3           1            3\n",
            "81598    524348                       1       15    2           1            2\n",
            "121424   588241                      13       57    3           3            3\n",
            "93334    564404                       1       36    2           1            2\n",
            "182408   614136                       3       58    3           1            3\n",
            "153899   612793                       3       66    3           1            3\n",
            "190926   640735                       3        9    1           1            1\n",
            "36412    543827                       4       37    2           2            2\n",
            "43041    529738                       6       67    3           2            3\n",
            "159080   609646                       2       45    2           1            2\n",
            "48085    557683                       2       50    2           1            2\n",
            "61664    556917                       5       72    3           2            3\n",
            "117954   598234                       1       38    2           1            2\n",
            "184530   598357                       6       57    3           2            3\n",
            "37923    533996                       5       50    2           2            2\n",
            "189868   635392                       2       13    1           1            1\n",
            "39157    541372                       5       11    1           2            1\n"
          ],
          "name": "stdout"
        }
      ]
    },
    {
      "cell_type": "code",
      "metadata": {
        "colab": {
          "base_uri": "https://localhost:8080/"
        },
        "id": "zBbiVxiFdP7K",
        "outputId": "12c560c6-b8dc-4c3e-e62a-4671d07a54b9"
      },
      "source": [
        "stat, p = scipy.stats.shapiro(df11.s['Тип круиза'])\r\n",
        "print('Statistics=%.3f, p-value=%.3f' % (stat, p))\r\n",
        "alpha = 0.05\r\n",
        "if p > alpha:\r\n",
        "    print('Принять гипотезу о нормальности')\r\n",
        "else:\r\n",
        "    print('Отклонить гипотезу о нормальности')"
      ],
      "execution_count": null,
      "outputs": [
        {
          "output_type": "stream",
          "text": [
            "Statistics=0.735, p-value=0.000\n",
            "Отклонить гипотезу о нормальности\n"
          ],
          "name": "stdout"
        }
      ]
    },
    {
      "cell_type": "code",
      "metadata": {
        "colab": {
          "base_uri": "https://localhost:8080/"
        },
        "id": "o9WxXUjNdPy7",
        "outputId": "f8e95978-7167-4b8d-8489-bd3ccd2b8c91"
      },
      "source": [
        "stat, p = scipy.stats.shapiro(df11.s['Тип туриста']) \r\n",
        "print('Statistics=%.3f, p-value=%.3f' % (stat, p))\r\n",
        "alpha = 0.05\r\n",
        "if p > alpha:\r\n",
        "    print('Принять гипотезу о нормальности')\r\n",
        "else:\r\n",
        "    print('Отклонить гипотезу о нормальности')"
      ],
      "execution_count": null,
      "outputs": [
        {
          "output_type": "stream",
          "text": [
            "Statistics=0.725, p-value=0.000\n",
            "Отклонить гипотезу о нормальности\n"
          ],
          "name": "stdout"
        }
      ]
    },
    {
      "cell_type": "markdown",
      "metadata": {
        "id": "SXfvN1pTfviy"
      },
      "source": [
        "Распределения не являются нормальными. Для анализа в этом случае используем U-тест Манна-Уитни"
      ]
    },
    {
      "cell_type": "code",
      "metadata": {
        "id": "kT3NeRpVdPrB"
      },
      "source": [
        "from scipy.stats import mannwhitneyu"
      ],
      "execution_count": null,
      "outputs": []
    },
    {
      "cell_type": "code",
      "metadata": {
        "id": "ujO6mLm3dPjR",
        "colab": {
          "base_uri": "https://localhost:8080/"
        },
        "outputId": "34b76930-560f-45d1-a7ac-f65d1902ed9d"
      },
      "source": [
        "stat, p = mannwhitneyu(df11.s['Тип круиза'], df11.s['Тип туриста'])\r\n",
        "print('Statistics=%.3f, p=%.3f' % (stat, p))\r\n",
        "alpha = 0.05\r\n",
        "if p > alpha:\r\n",
        "\tprint('Не в состоянии отклонить H0: Распределения выборки равны')\r\n",
        "else:\r\n",
        "\tprint('Отклонить H0: Распределения выборки не равны')"
      ],
      "execution_count": null,
      "outputs": [
        {
          "output_type": "stream",
          "text": [
            "Statistics=245.000, p=0.001\n",
            "Отклонить H0: Распределения выборки не равны\n"
          ],
          "name": "stdout"
        }
      ]
    },
    {
      "cell_type": "code",
      "metadata": {
        "id": "9QidEqqPdPac"
      },
      "source": [
        ""
      ],
      "execution_count": null,
      "outputs": []
    }
  ]
}